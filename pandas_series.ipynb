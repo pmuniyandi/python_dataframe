{
 "cells": [
  {
   "cell_type": "markdown",
   "metadata": {},
   "source": [
    "Agenda\n",
    "What is Pandas Series\n",
    "Series Vs Dataframe\n",
    "Pandas series using list\n"
   ]
  },
  {
   "cell_type": "code",
   "execution_count": null,
   "metadata": {},
   "outputs": [],
   "source": [
    "import pandas as pd \n",
    "marks = [70,75,90,69,87]\n",
    "idx = [\"s1\",\"s2\",\"s3\",\"s4\",\"s5\"]\n",
    "ps = pd.Series(marks,index=idx,dtype=\"float\",name=\"marks\")\n",
    "print(ps[\"s2\"],ps[1])\n",
    "print(ps.dtype)\n",
    "print(ps)\n",
    "\n",
    "print(ps.gt(10))\n",
    "ps.describe"
   ]
  },
  {
   "cell_type": "markdown",
   "metadata": {},
   "source": [
    "Important Attributes of Series\n",
    "   data, index, dtype,name, copy\n",
    "Setting/passing data.\n",
    "Setting/changing index. \n",
    "Setting/changing data type.\n",
    "Setting/changing name.\n",
    "How to use copy attribute\n",
    "Syntax\n",
    "pandas.Series(data=None, index=None, dtype=None, name=None, copy=False)"
   ]
  },
  {
   "cell_type": "code",
   "execution_count": null,
   "metadata": {},
   "outputs": [],
   "source": []
  }
 ],
 "metadata": {
  "interpreter": {
   "hash": "aee8b7b246df8f9039afb4144a1f6fd8d2ca17a180786b69acc140d282b71a49"
  },
  "kernelspec": {
   "display_name": "Python 3.10.2 64-bit",
   "language": "python",
   "name": "python3"
  },
  "language_info": {
   "codemirror_mode": {
    "name": "ipython",
    "version": 3
   },
   "file_extension": ".py",
   "mimetype": "text/x-python",
   "name": "python",
   "nbconvert_exporter": "python",
   "pygments_lexer": "ipython3",
   "version": "3.10.2"
  },
  "orig_nbformat": 4
 },
 "nbformat": 4,
 "nbformat_minor": 2
}
