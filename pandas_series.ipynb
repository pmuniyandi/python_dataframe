{
 "cells": [
  {
   "cell_type": "markdown",
   "metadata": {},
   "source": [
    "Agenda\n",
    "What is Pandas Series\n",
    "Series Vs Dataframe\n",
    "Pandas series using list\n"
   ]
  },
  {
   "cell_type": "code",
   "execution_count": null,
   "metadata": {},
   "outputs": [],
   "source": [
    "import pandas as pd\n",
    "marks = [70,75,90,69,87]\n",
    "idx = [\"s1\",\"s2\",\"s3\",\"s4\",\"s5\"]\n",
    "ps = pd.Series(marks,index=idx,dtype=\"float\", copy = False)\n",
    "print(ps[\"s2\"],ps[1])\n",
    "print(ps.dtype)\n",
    "print(ps)\n",
    "\n",
    "print(ps.gt(10))\n",
    "ps.describe"
   ]
  },
  {
   "cell_type": "markdown",
   "metadata": {},
   "source": [
    "Syntax\n",
    "pandas.Series(data=None, index=None, dtype=None, name=None, copy=False)\n",
    "\n",
    "Important Parameters of Series\n",
    "   data, index, dtype,name, copy\n",
    "Setting/passing data.\n",
    "Setting/changing index. \n",
    "Setting/changing data type.\n",
    "Setting/changing name.\n",
    "How to use copy attribute\n",
    "Creating Series using numpy array \n",
    "Creating Series using dictionary  "
   ]
  },
  {
   "cell_type": "code",
   "execution_count": 46,
   "metadata": {},
   "outputs": [
    {
     "name": "stdout",
     "output_type": "stream",
     "text": [
      "a    1\n",
      "b    2\n",
      "c    3\n",
      "dtype: int64\n"
     ]
    }
   ],
   "source": [
    "import numpy as ny\n",
    "array1 = ny.array([10.5,200,30,30,58, ny.NaN])\n",
    "ps1 = pd.Series(index=[\"n1\",\"n2\",ny.NaN,\"n4\",\"n5\", \"n6\"], copy = True, data=array1)\n",
    "#print(\"Before Modified\")\n",
    "#print(ps)\n",
    "#print(ps1)\n",
    "#ps.s1 = 100ps\n",
    "#ps1.n1 = 100\n",
    "#print(\"After Modified\")\n",
    "#print(ps)\n",
    "#print(ps1)\n",
    "#print(\"Soruce\")\n",
    "#print(marks)\n",
    "#print(array1)'''\n",
    "dic = {\"a\": 1, \"b\": 2, \"c\": 3}\n",
    "ps2=pd.Series(dic)\n",
    "print(ps2)"
   ]
  },
  {
   "cell_type": "markdown",
   "metadata": {},
   "source": [
    "What are the different functions are there in Series\n",
    "    Min, Max, Mean, Mod, Std, count, size\n",
    " Sort Series \n",
    "    by value, by Index\n",
    " "
   ]
  },
  {
   "cell_type": "code",
   "execution_count": null,
   "metadata": {},
   "outputs": [],
   "source": [
    "'''ps1\n",
    "print(\"Size \", ps1.size)\n",
    "print(\"Count \", ps1.count())\n",
    "print(\"Min \", ps1.min())\n",
    "print(\"Max \", ps1.max())\n",
    "print(\"Sum \", ps1.sum())\n",
    "print(\"Average \", ps1.mean())\n",
    "print(\"Median \", ps1.median())\n",
    "print(\"Std \", ps1.std())\n",
    "print(\"Mode \", ps1.mode())\n",
    "'''\n",
    "#ps1.sort_values(na_position=\"first\", ascending=False)\n",
    "ps1.sort_index(na_position=\"first\",ascending=False)\n",
    "ps1.duplicated()\n",
    "ps1.notna()\n"
   ]
  }
 ],
 "metadata": {
  "interpreter": {
   "hash": "aee8b7b246df8f9039afb4144a1f6fd8d2ca17a180786b69acc140d282b71a49"
  },
  "kernelspec": {
   "display_name": "Python 3.10.2 64-bit",
   "language": "python",
   "name": "python3"
  },
  "language_info": {
   "codemirror_mode": {
    "name": "ipython",
    "version": 3
   },
   "file_extension": ".py",
   "mimetype": "text/x-python",
   "name": "python",
   "nbconvert_exporter": "python",
   "pygments_lexer": "ipython3",
   "version": "3.10.2"
  },
  "orig_nbformat": 4
 },
 "nbformat": 4,
 "nbformat_minor": 2
}
